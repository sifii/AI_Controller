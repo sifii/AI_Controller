{
 "cells": [
  {
   "cell_type": "code",
   "execution_count": 1,
   "id": "bff4cfd1-0ac1-4394-a805-f11292b1b357",
   "metadata": {},
   "outputs": [
    {
     "name": "stdout",
     "output_type": "stream",
     "text": [
      "Collecting gensim\n",
      "  Downloading gensim-4.3.1-cp38-cp38-win_amd64.whl (24.0 MB)\n",
      "Requirement already satisfied: numpy>=1.18.5 in c:\\users\\bilal\\anaconda3\\lib\\site-packages (from gensim) (1.22.4)\n",
      "Collecting scipy>=1.7.0\n",
      "  Using cached scipy-1.10.1-cp38-cp38-win_amd64.whl (42.2 MB)\n",
      "Collecting smart-open>=1.8.1\n",
      "  Downloading smart_open-6.3.0-py3-none-any.whl (56 kB)\n",
      "Installing collected packages: smart-open, scipy, gensim\n",
      "  Attempting uninstall: scipy\n",
      "    Found existing installation: scipy 1.6.2\n",
      "    Uninstalling scipy-1.6.2:\n",
      "      Successfully uninstalled scipy-1.6.2\n",
      "Successfully installed gensim-4.3.1 scipy-1.10.1 smart-open-6.3.0\n",
      "Collecting python-Levenshtein\n",
      "  Downloading python_Levenshtein-0.21.1-py3-none-any.whl (9.4 kB)\n",
      "Collecting Levenshtein==0.21.1\n",
      "  Downloading Levenshtein-0.21.1-cp38-cp38-win_amd64.whl (101 kB)\n",
      "Collecting rapidfuzz<4.0.0,>=2.3.0\n",
      "  Downloading rapidfuzz-3.1.1-cp38-cp38-win_amd64.whl (1.8 MB)\n",
      "Installing collected packages: rapidfuzz, Levenshtein, python-Levenshtein\n",
      "Successfully installed Levenshtein-0.21.1 python-Levenshtein-0.21.1 rapidfuzz-3.1.1\n"
     ]
    }
   ],
   "source": [
    "!pip install gensim\n",
    "!pip install python-Levenshtein"
   ]
  },
  {
   "cell_type": "code",
   "execution_count": 2,
   "id": "49290c8f-9a0a-4b3c-8f48-9b375851664f",
   "metadata": {},
   "outputs": [],
   "source": [
    "import gensim\n",
    "import pandas as pd"
   ]
  },
  {
   "cell_type": "code",
   "execution_count": 10,
   "id": "fd8f1903-3d59-47b5-928c-3687dad1c9e7",
   "metadata": {},
   "outputs": [
    {
     "data": {
      "text/html": [
       "<div>\n",
       "<style scoped>\n",
       "    .dataframe tbody tr th:only-of-type {\n",
       "        vertical-align: middle;\n",
       "    }\n",
       "\n",
       "    .dataframe tbody tr th {\n",
       "        vertical-align: top;\n",
       "    }\n",
       "\n",
       "    .dataframe thead th {\n",
       "        text-align: right;\n",
       "    }\n",
       "</style>\n",
       "<table border=\"1\" class=\"dataframe\">\n",
       "  <thead>\n",
       "    <tr style=\"text-align: right;\">\n",
       "      <th></th>\n",
       "      <th>Unnamed: 0</th>\n",
       "      <th>Persona</th>\n",
       "      <th>chat</th>\n",
       "    </tr>\n",
       "  </thead>\n",
       "  <tbody>\n",
       "    <tr>\n",
       "      <th>0</th>\n",
       "      <td>0</td>\n",
       "      <td>i like to remodel homes. i like to go hunting...</td>\n",
       "      <td>hi , how are you doing ? i am getting ready to...</td>\n",
       "    </tr>\n",
       "    <tr>\n",
       "      <th>1</th>\n",
       "      <td>1</td>\n",
       "      <td>my mom is my best friend. i have four sisters...</td>\n",
       "      <td>hi , how are you doing today ?\\r\\ni am spendin...</td>\n",
       "    </tr>\n",
       "    <tr>\n",
       "      <th>2</th>\n",
       "      <td>2</td>\n",
       "      <td>i had a gig at local theater last night. i wo...</td>\n",
       "      <td>we all live in a yellow submarine , a yellow s...</td>\n",
       "    </tr>\n",
       "    <tr>\n",
       "      <th>3</th>\n",
       "      <td>3</td>\n",
       "      <td>i am very athletic. i wear contacts. i have b...</td>\n",
       "      <td>hi ! i work as a gourmet cook .\\r\\ni do not li...</td>\n",
       "    </tr>\n",
       "    <tr>\n",
       "      <th>4</th>\n",
       "      <td>4</td>\n",
       "      <td>i am primarily a meat eater. i am a guitar pl...</td>\n",
       "      <td>how are you doing today\\r\\nwhat do you do for ...</td>\n",
       "    </tr>\n",
       "  </tbody>\n",
       "</table>\n",
       "</div>"
      ],
      "text/plain": [
       "   Unnamed: 0                                            Persona   \n",
       "0           0   i like to remodel homes. i like to go hunting...  \\\n",
       "1           1   my mom is my best friend. i have four sisters...   \n",
       "2           2   i had a gig at local theater last night. i wo...   \n",
       "3           3   i am very athletic. i wear contacts. i have b...   \n",
       "4           4   i am primarily a meat eater. i am a guitar pl...   \n",
       "\n",
       "                                                chat  \n",
       "0  hi , how are you doing ? i am getting ready to...  \n",
       "1  hi , how are you doing today ?\\r\\ni am spendin...  \n",
       "2  we all live in a yellow submarine , a yellow s...  \n",
       "3  hi ! i work as a gourmet cook .\\r\\ni do not li...  \n",
       "4  how are you doing today\\r\\nwhat do you do for ...  "
      ]
     },
     "execution_count": 10,
     "metadata": {},
     "output_type": "execute_result"
    }
   ],
   "source": [
    "df = pd.read_csv(\"personality.csv\")\n",
    "df.head()"
   ]
  },
  {
   "cell_type": "code",
   "execution_count": 11,
   "id": "b0b44a94-4c4f-4f4f-a9fe-7d40bc2c244f",
   "metadata": {},
   "outputs": [],
   "source": [
    "chat_text = df.chat.apply(gensim.utils.simple_preprocess)"
   ]
  },
  {
   "cell_type": "code",
   "execution_count": 14,
   "id": "14ec1596-858f-4b9b-9e5d-7792cc075bec",
   "metadata": {},
   "outputs": [
    {
     "data": {
      "text/plain": [
       "0       [hi, how, are, you, doing, am, getting, ready,...\n",
       "1       [hi, how, are, you, doing, today, am, spending...\n",
       "2       [we, all, live, in, yellow, submarine, yellow,...\n",
       "3       [hi, work, as, gourmet, cook, do, not, like, c...\n",
       "4       [how, are, you, doing, today, what, do, you, d...\n",
       "                              ...                        \n",
       "8934    [good, evening, have, been, having, terrible, ...\n",
       "8935    [hi, there, how, is, work, do, not, work, thes...\n",
       "8936    [hello, have, daughter, who, is, in, kindergar...\n",
       "8937    [hi, how, are, you, doing, am, doing, well, ju...\n",
       "8938    [hello, how, are, you, today, hello, am, good,...\n",
       "Name: chat, Length: 8939, dtype: object"
      ]
     },
     "execution_count": 14,
     "metadata": {},
     "output_type": "execute_result"
    }
   ],
   "source": [
    "chat_text"
   ]
  },
  {
   "cell_type": "code",
   "execution_count": 18,
   "id": "759058e0-8bd1-4062-b161-b6b122f32d99",
   "metadata": {},
   "outputs": [
    {
     "data": {
      "text/plain": [
       "0       [like, to, remodel, homes, like, to, go, hunti...\n",
       "1       [my, mom, is, my, best, friend, have, four, si...\n",
       "2       [had, gig, at, local, theater, last, night, wo...\n",
       "3       [am, very, athletic, wear, contacts, have, bro...\n",
       "4       [am, primarily, meat, eater, am, guitar, playe...\n",
       "                              ...                        \n",
       "8934    [my, favorite, food, is, fried, chicken, have,...\n",
       "8935    [love, fast, food, am, stay, at, home, mom, wa...\n",
       "8936    [my, family, and, go, camping, every, month, a...\n",
       "8937    [have, red, hair, work, at, retail, store, am,...\n",
       "8938    [applying, for, publishing, jobs, the, only, a...\n",
       "Name: Persona, Length: 8939, dtype: object"
      ]
     },
     "execution_count": 18,
     "metadata": {},
     "output_type": "execute_result"
    }
   ],
   "source": [
    "persona_text = df.Persona.apply(gensim.utils.simple_preprocess)\n",
    "persona_text"
   ]
  },
  {
   "cell_type": "code",
   "execution_count": 19,
   "id": "c7e70998-9af5-40a1-8039-e558b90b7d11",
   "metadata": {},
   "outputs": [],
   "source": [
    "model = gensim.models.Word2Vec(\n",
    "    window=10,\n",
    "    min_count=2\n",
    ")"
   ]
  },
  {
   "cell_type": "code",
   "execution_count": 20,
   "id": "26ba5744-27c7-4ff6-b195-cda2f64f8d88",
   "metadata": {},
   "outputs": [],
   "source": [
    "model.build_vocab(chat_text, progress_per=1000)"
   ]
  },
  {
   "cell_type": "code",
   "execution_count": 21,
   "id": "91999126-01ac-47a9-9dd4-f3536ca1a114",
   "metadata": {},
   "outputs": [
    {
     "data": {
      "text/plain": [
       "(4170261, 5902525)"
      ]
     },
     "execution_count": 21,
     "metadata": {},
     "output_type": "execute_result"
    }
   ],
   "source": [
    "model.train(chat_text, total_examples=model.corpus_count, epochs=model.epochs)"
   ]
  },
  {
   "cell_type": "code",
   "execution_count": 22,
   "id": "cc110507-a83a-48c3-8f9b-ef29170dc6dc",
   "metadata": {},
   "outputs": [],
   "source": [
    "model.save(\"./word2vec-personality-csv-chat.model\")"
   ]
  },
  {
   "cell_type": "code",
   "execution_count": 26,
   "id": "88e2e04a-2041-4b38-9175-a8701cb01a9d",
   "metadata": {},
   "outputs": [
    {
     "data": {
      "text/plain": [
       "array([ 1.427901  , -1.9316206 , -1.6992799 , -0.6705843 , -1.4316057 ,\n",
       "       -1.7468712 , -1.5450586 ,  1.6121022 , -3.422169  , -1.639603  ,\n",
       "       -1.1211324 ,  0.10925289, -0.29450113,  4.698805  ,  0.86365014,\n",
       "       -0.5095601 , -0.6490216 ,  0.9617641 ,  1.3498455 ,  0.5534246 ,\n",
       "        1.915215  , -1.3566025 , -1.4389307 , -1.7944523 , -0.5805985 ,\n",
       "       -0.96033424, -2.3374949 ,  1.8242773 ,  0.5274474 , -0.14564353,\n",
       "        1.4595296 ,  1.4227276 , -0.71220464, -0.97700495,  1.8976206 ,\n",
       "        0.64003825,  2.0153146 ,  1.037132  ,  0.24805601, -2.182044  ,\n",
       "       -1.335325  ,  1.2717614 ,  2.913749  ,  0.14995153, -0.4998615 ,\n",
       "        0.28416252,  0.2912062 ,  0.36216635,  3.2657409 , -2.9829476 ,\n",
       "       -0.7699579 , -0.29801556,  0.01374985,  2.256403  ,  1.7218463 ,\n",
       "        0.33838096,  0.33886477, -0.17294888, -0.81441194, -0.5153615 ,\n",
       "        0.49145386,  2.933356  ,  0.69368714,  0.22278775,  0.4668    ,\n",
       "       -0.38926607,  1.6869593 ,  0.5810478 , -1.9860206 ,  2.8679366 ,\n",
       "        0.49124447,  0.03597467,  0.9473223 ,  1.1824678 ,  1.3229743 ,\n",
       "        0.19540419, -2.0356321 ,  0.95808417, -2.3374386 , -1.2037438 ,\n",
       "       -1.2762638 ,  1.1300476 ,  0.7035717 ,  1.724041  ,  2.5369918 ,\n",
       "       -1.113877  , -0.86964196,  1.2590835 , -1.5016655 ,  0.6093404 ,\n",
       "        3.7636366 , -2.292034  , -0.8532828 ,  0.18577074, -1.3480451 ,\n",
       "        0.505466  ,  0.49154055, -0.6788713 ,  0.5591763 ,  2.371417  ],\n",
       "      dtype=float32)"
      ]
     },
     "execution_count": 26,
     "metadata": {},
     "output_type": "execute_result"
    }
   ],
   "source": [
    "model.wv['how']"
   ]
  },
  {
   "cell_type": "code",
   "execution_count": 27,
   "id": "3b377896-2633-417a-bc4c-c6f183e89e2f",
   "metadata": {},
   "outputs": [
    {
     "data": {
      "text/plain": [
       "array([ 2.3335238 ,  0.65311503, -3.0634446 , -0.06843312, -2.4055822 ,\n",
       "       -1.3840749 , -2.9458117 ,  0.28091544, -4.408772  , -2.5875437 ,\n",
       "        2.2176666 , -0.0547967 ,  1.3411778 ,  3.505199  ,  2.1383173 ,\n",
       "        0.48588845, -0.4405799 , -0.11241071,  2.7575126 , -0.343275  ,\n",
       "        2.4349592 ,  0.5107352 ,  0.6109439 , -1.2452213 , -0.89007366,\n",
       "        2.033485  , -0.77394086,  2.7024724 , -0.1590936 ,  1.4781318 ,\n",
       "        1.300644  , -1.2210759 ,  0.40570566, -1.519086  ,  1.5947065 ,\n",
       "        2.926611  , -1.6390065 ,  1.2861873 , -0.92585933, -0.53591305,\n",
       "       -2.1396558 ,  0.69259626,  0.639196  ,  2.3254488 , -0.23340417,\n",
       "       -1.081081  ,  1.3891518 , -1.9014292 ,  1.4504826 , -2.49855   ,\n",
       "        2.3332174 ,  3.9801874 , -1.846148  ,  1.8430018 ,  2.1908016 ,\n",
       "       -3.3638167 ,  3.085157  , -2.414352  , -1.9814814 , -0.13566712,\n",
       "        0.5066269 ,  2.5400362 ,  0.09187882,  2.140211  , -2.449221  ,\n",
       "        0.11959669,  2.0302129 , -1.111805  , -4.373403  ,  4.381345  ,\n",
       "       -1.9816984 , -1.1780075 ,  0.13843083,  0.6489935 ,  1.3835677 ,\n",
       "        0.30498528,  0.09126747,  2.1639545 , -1.7964587 , -0.13474344,\n",
       "        0.8709368 , -0.8215954 , -0.17613739,  2.9930825 , -0.9792975 ,\n",
       "       -1.2722389 , -0.5020933 ,  2.8437827 , -2.216775  ,  0.81885415,\n",
       "        1.7391022 , -1.1225066 , -2.7039404 , -1.4223603 , -1.1623443 ,\n",
       "        0.18361294, -2.5925944 , -0.2139594 , -0.34748977,  2.1726367 ],\n",
       "      dtype=float32)"
      ]
     },
     "execution_count": 27,
     "metadata": {},
     "output_type": "execute_result"
    }
   ],
   "source": [
    "model.wv['hi']"
   ]
  },
  {
   "cell_type": "code",
   "execution_count": null,
   "id": "96c34a89-8f68-447b-920a-850c76925284",
   "metadata": {},
   "outputs": [],
   "source": []
  }
 ],
 "metadata": {
  "kernelspec": {
   "display_name": "Python 3",
   "language": "python",
   "name": "python3"
  },
  "language_info": {
   "codemirror_mode": {
    "name": "ipython",
    "version": 3
   },
   "file_extension": ".py",
   "mimetype": "text/x-python",
   "name": "python",
   "nbconvert_exporter": "python",
   "pygments_lexer": "ipython3",
   "version": "3.8.8"
  }
 },
 "nbformat": 4,
 "nbformat_minor": 5
}
